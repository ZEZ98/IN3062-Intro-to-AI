{
 "cells": [
  {
   "cell_type": "markdown",
   "metadata": {},
   "source": [
    "# Support Vector Machine (SVM)"
   ]
  },
  {
   "cell_type": "code",
   "execution_count": 1,
   "metadata": {},
   "outputs": [],
   "source": [
    "import os \n",
    "import numpy as np \n",
    "import pandas as pd\n",
    "import seaborn as sns\n",
    "import matplotlib.pyplot as plt\n",
    "\n",
    "from sklearn import datasets\n",
    "from sklearn.svm import SVC\n",
    "from sklearn import svm\n",
    "from sklearn.metrics import accuracy_score\n",
    "from sklearn.metrics import confusion_matrix\n",
    "from sklearn.model_selection import train_test_split\n",
    "from sklearn.metrics import plot_confusion_matrix\n",
    "from sklearn.datasets import make_blobs\n",
    "from sklearn.model_selection import GridSearchCV\n",
    "%matplotlib inline"
   ]
  },
  {
   "cell_type": "code",
   "execution_count": 2,
   "metadata": {},
   "outputs": [],
   "source": [
    "#Loading the dataset\n",
    "df = pd.read_csv('ufc.csv')"
   ]
  },
  {
   "cell_type": "code",
   "execution_count": 3,
   "metadata": {},
   "outputs": [
    {
     "data": {
      "text/html": [
       "<div>\n",
       "<style scoped>\n",
       "    .dataframe tbody tr th:only-of-type {\n",
       "        vertical-align: middle;\n",
       "    }\n",
       "\n",
       "    .dataframe tbody tr th {\n",
       "        vertical-align: top;\n",
       "    }\n",
       "\n",
       "    .dataframe thead th {\n",
       "        text-align: right;\n",
       "    }\n",
       "</style>\n",
       "<table border=\"1\" class=\"dataframe\">\n",
       "  <thead>\n",
       "    <tr style=\"text-align: right;\">\n",
       "      <th></th>\n",
       "      <th>R_fighter</th>\n",
       "      <th>B_fighter</th>\n",
       "      <th>R_odds</th>\n",
       "      <th>B_odds</th>\n",
       "      <th>R_ev</th>\n",
       "      <th>B_ev</th>\n",
       "      <th>date</th>\n",
       "      <th>location</th>\n",
       "      <th>country</th>\n",
       "      <th>Winner</th>\n",
       "      <th>...</th>\n",
       "      <th>finish_details</th>\n",
       "      <th>finish_round</th>\n",
       "      <th>finish_round_time</th>\n",
       "      <th>total_fight_time_secs</th>\n",
       "      <th>r_dec_odds</th>\n",
       "      <th>b_dec_odds</th>\n",
       "      <th>r_sub_odds</th>\n",
       "      <th>b_sub_odds</th>\n",
       "      <th>r_ko_odds</th>\n",
       "      <th>b_ko_odds</th>\n",
       "    </tr>\n",
       "  </thead>\n",
       "  <tbody>\n",
       "    <tr>\n",
       "      <th>0</th>\n",
       "      <td>Derrick Lewis</td>\n",
       "      <td>Ciryl Gane</td>\n",
       "      <td>250</td>\n",
       "      <td>-320</td>\n",
       "      <td>250.000000</td>\n",
       "      <td>31.250000</td>\n",
       "      <td>07/08/2021</td>\n",
       "      <td>Houston, Texas, USA</td>\n",
       "      <td>USA</td>\n",
       "      <td>Blue</td>\n",
       "      <td>...</td>\n",
       "      <td>Punches</td>\n",
       "      <td>3.0</td>\n",
       "      <td>04:11</td>\n",
       "      <td>851.0</td>\n",
       "      <td>1400.0</td>\n",
       "      <td>215.0</td>\n",
       "      <td>2200.0</td>\n",
       "      <td>600.0</td>\n",
       "      <td>330.0</td>\n",
       "      <td>120.0</td>\n",
       "    </tr>\n",
       "    <tr>\n",
       "      <th>1</th>\n",
       "      <td>Jose Aldo</td>\n",
       "      <td>Pedro Munhoz</td>\n",
       "      <td>-105</td>\n",
       "      <td>-115</td>\n",
       "      <td>95.238095</td>\n",
       "      <td>86.956522</td>\n",
       "      <td>07/08/2021</td>\n",
       "      <td>Houston, Texas, USA</td>\n",
       "      <td>USA</td>\n",
       "      <td>Red</td>\n",
       "      <td>...</td>\n",
       "      <td>NaN</td>\n",
       "      <td>3.0</td>\n",
       "      <td>05:00</td>\n",
       "      <td>900.0</td>\n",
       "      <td>150.0</td>\n",
       "      <td>225.0</td>\n",
       "      <td>1600.0</td>\n",
       "      <td>900.0</td>\n",
       "      <td>450.0</td>\n",
       "      <td>450.0</td>\n",
       "    </tr>\n",
       "    <tr>\n",
       "      <th>2</th>\n",
       "      <td>Michael Chiesa</td>\n",
       "      <td>Vicente Luque</td>\n",
       "      <td>-115</td>\n",
       "      <td>-105</td>\n",
       "      <td>86.956522</td>\n",
       "      <td>95.238095</td>\n",
       "      <td>07/08/2021</td>\n",
       "      <td>Houston, Texas, USA</td>\n",
       "      <td>USA</td>\n",
       "      <td>Blue</td>\n",
       "      <td>...</td>\n",
       "      <td>D'Arce Choke</td>\n",
       "      <td>1.0</td>\n",
       "      <td>03:25</td>\n",
       "      <td>205.0</td>\n",
       "      <td>225.0</td>\n",
       "      <td>300.0</td>\n",
       "      <td>350.0</td>\n",
       "      <td>650.0</td>\n",
       "      <td>900.0</td>\n",
       "      <td>300.0</td>\n",
       "    </tr>\n",
       "    <tr>\n",
       "      <th>3</th>\n",
       "      <td>Tecia Torres</td>\n",
       "      <td>Angela Hill</td>\n",
       "      <td>-160</td>\n",
       "      <td>140</td>\n",
       "      <td>62.500000</td>\n",
       "      <td>140.000000</td>\n",
       "      <td>07/08/2021</td>\n",
       "      <td>Houston, Texas, USA</td>\n",
       "      <td>USA</td>\n",
       "      <td>Red</td>\n",
       "      <td>...</td>\n",
       "      <td>NaN</td>\n",
       "      <td>3.0</td>\n",
       "      <td>05:00</td>\n",
       "      <td>900.0</td>\n",
       "      <td>-105.0</td>\n",
       "      <td>180.0</td>\n",
       "      <td>1000.0</td>\n",
       "      <td>2000.0</td>\n",
       "      <td>1100.0</td>\n",
       "      <td>750.0</td>\n",
       "    </tr>\n",
       "    <tr>\n",
       "      <th>4</th>\n",
       "      <td>Song Yadong</td>\n",
       "      <td>Casey Kenney</td>\n",
       "      <td>105</td>\n",
       "      <td>-125</td>\n",
       "      <td>105.000000</td>\n",
       "      <td>80.000000</td>\n",
       "      <td>07/08/2021</td>\n",
       "      <td>Houston, Texas, USA</td>\n",
       "      <td>USA</td>\n",
       "      <td>Red</td>\n",
       "      <td>...</td>\n",
       "      <td>NaN</td>\n",
       "      <td>3.0</td>\n",
       "      <td>05:00</td>\n",
       "      <td>900.0</td>\n",
       "      <td>215.0</td>\n",
       "      <td>165.0</td>\n",
       "      <td>1100.0</td>\n",
       "      <td>800.0</td>\n",
       "      <td>350.0</td>\n",
       "      <td>700.0</td>\n",
       "    </tr>\n",
       "  </tbody>\n",
       "</table>\n",
       "<p>5 rows × 119 columns</p>\n",
       "</div>"
      ],
      "text/plain": [
       "        R_fighter      B_fighter  R_odds  B_odds        R_ev        B_ev  \\\n",
       "0   Derrick Lewis     Ciryl Gane     250    -320  250.000000   31.250000   \n",
       "1       Jose Aldo   Pedro Munhoz    -105    -115   95.238095   86.956522   \n",
       "2  Michael Chiesa  Vicente Luque    -115    -105   86.956522   95.238095   \n",
       "3    Tecia Torres    Angela Hill    -160     140   62.500000  140.000000   \n",
       "4     Song Yadong   Casey Kenney     105    -125  105.000000   80.000000   \n",
       "\n",
       "         date             location country Winner  ...  finish_details  \\\n",
       "0  07/08/2021  Houston, Texas, USA     USA   Blue  ...         Punches   \n",
       "1  07/08/2021  Houston, Texas, USA     USA    Red  ...             NaN   \n",
       "2  07/08/2021  Houston, Texas, USA     USA   Blue  ...    D'Arce Choke   \n",
       "3  07/08/2021  Houston, Texas, USA     USA    Red  ...             NaN   \n",
       "4  07/08/2021  Houston, Texas, USA     USA    Red  ...             NaN   \n",
       "\n",
       "  finish_round finish_round_time  total_fight_time_secs  r_dec_odds  \\\n",
       "0          3.0             04:11                  851.0      1400.0   \n",
       "1          3.0             05:00                  900.0       150.0   \n",
       "2          1.0             03:25                  205.0       225.0   \n",
       "3          3.0             05:00                  900.0      -105.0   \n",
       "4          3.0             05:00                  900.0       215.0   \n",
       "\n",
       "   b_dec_odds  r_sub_odds  b_sub_odds  r_ko_odds  b_ko_odds  \n",
       "0       215.0      2200.0       600.0      330.0      120.0  \n",
       "1       225.0      1600.0       900.0      450.0      450.0  \n",
       "2       300.0       350.0       650.0      900.0      300.0  \n",
       "3       180.0      1000.0      2000.0     1100.0      750.0  \n",
       "4       165.0      1100.0       800.0      350.0      700.0  \n",
       "\n",
       "[5 rows x 119 columns]"
      ]
     },
     "execution_count": 3,
     "metadata": {},
     "output_type": "execute_result"
    }
   ],
   "source": [
    "#Displaying the first 5 rows\n",
    "df.head()"
   ]
  },
  {
   "cell_type": "code",
   "execution_count": 4,
   "metadata": {},
   "outputs": [
    {
     "data": {
      "text/html": [
       "<div>\n",
       "<style scoped>\n",
       "    .dataframe tbody tr th:only-of-type {\n",
       "        vertical-align: middle;\n",
       "    }\n",
       "\n",
       "    .dataframe tbody tr th {\n",
       "        vertical-align: top;\n",
       "    }\n",
       "\n",
       "    .dataframe thead th {\n",
       "        text-align: right;\n",
       "    }\n",
       "</style>\n",
       "<table border=\"1\" class=\"dataframe\">\n",
       "  <thead>\n",
       "    <tr style=\"text-align: right;\">\n",
       "      <th></th>\n",
       "      <th>R_fighter</th>\n",
       "      <th>B_fighter</th>\n",
       "      <th>R_odds</th>\n",
       "      <th>B_odds</th>\n",
       "      <th>R_ev</th>\n",
       "      <th>B_ev</th>\n",
       "      <th>date</th>\n",
       "      <th>location</th>\n",
       "      <th>country</th>\n",
       "      <th>Winner</th>\n",
       "      <th>...</th>\n",
       "      <th>finish_details</th>\n",
       "      <th>finish_round</th>\n",
       "      <th>finish_round_time</th>\n",
       "      <th>total_fight_time_secs</th>\n",
       "      <th>r_dec_odds</th>\n",
       "      <th>b_dec_odds</th>\n",
       "      <th>r_sub_odds</th>\n",
       "      <th>b_sub_odds</th>\n",
       "      <th>r_ko_odds</th>\n",
       "      <th>b_ko_odds</th>\n",
       "    </tr>\n",
       "  </thead>\n",
       "  <tbody>\n",
       "    <tr>\n",
       "      <th>493</th>\n",
       "      <td>John Dodson</td>\n",
       "      <td>Merab Dvalishvili</td>\n",
       "      <td>188</td>\n",
       "      <td>-240</td>\n",
       "      <td>188.000000</td>\n",
       "      <td>41.666667</td>\n",
       "      <td>8/15/2020</td>\n",
       "      <td>Las Vegas, Nevada, USA</td>\n",
       "      <td>USA</td>\n",
       "      <td>Blue</td>\n",
       "      <td>...</td>\n",
       "      <td>NaN</td>\n",
       "      <td>NaN</td>\n",
       "      <td>NaN</td>\n",
       "      <td>NaN</td>\n",
       "      <td>450.0</td>\n",
       "      <td>-185.0</td>\n",
       "      <td>1500.0</td>\n",
       "      <td>1000.0</td>\n",
       "      <td>375.0</td>\n",
       "      <td>1000.0</td>\n",
       "    </tr>\n",
       "    <tr>\n",
       "      <th>494</th>\n",
       "      <td>Jim Miller</td>\n",
       "      <td>Vinc Pichel</td>\n",
       "      <td>100</td>\n",
       "      <td>-124</td>\n",
       "      <td>100.000000</td>\n",
       "      <td>80.645161</td>\n",
       "      <td>8/15/2020</td>\n",
       "      <td>Las Vegas, Nevada, USA</td>\n",
       "      <td>USA</td>\n",
       "      <td>Blue</td>\n",
       "      <td>...</td>\n",
       "      <td>NaN</td>\n",
       "      <td>NaN</td>\n",
       "      <td>NaN</td>\n",
       "      <td>NaN</td>\n",
       "      <td>350.0</td>\n",
       "      <td>180.0</td>\n",
       "      <td>250.0</td>\n",
       "      <td>1500.0</td>\n",
       "      <td>800.0</td>\n",
       "      <td>350.0</td>\n",
       "    </tr>\n",
       "    <tr>\n",
       "      <th>495</th>\n",
       "      <td>Ashley Yoder</td>\n",
       "      <td>Livinha Souza</td>\n",
       "      <td>130</td>\n",
       "      <td>-162</td>\n",
       "      <td>130.000000</td>\n",
       "      <td>61.728395</td>\n",
       "      <td>8/15/2020</td>\n",
       "      <td>Las Vegas, Nevada, USA</td>\n",
       "      <td>USA</td>\n",
       "      <td>Blue</td>\n",
       "      <td>...</td>\n",
       "      <td>NaN</td>\n",
       "      <td>NaN</td>\n",
       "      <td>NaN</td>\n",
       "      <td>NaN</td>\n",
       "      <td>180.0</td>\n",
       "      <td>105.0</td>\n",
       "      <td>1250.0</td>\n",
       "      <td>375.0</td>\n",
       "      <td>1600.0</td>\n",
       "      <td>625.0</td>\n",
       "    </tr>\n",
       "    <tr>\n",
       "      <th>496</th>\n",
       "      <td>Felice Herrig</td>\n",
       "      <td>Virna Jandiroba</td>\n",
       "      <td>240</td>\n",
       "      <td>-315</td>\n",
       "      <td>240.000000</td>\n",
       "      <td>31.746032</td>\n",
       "      <td>8/15/2020</td>\n",
       "      <td>Las Vegas, Nevada, USA</td>\n",
       "      <td>USA</td>\n",
       "      <td>Blue</td>\n",
       "      <td>...</td>\n",
       "      <td>Armbar</td>\n",
       "      <td>NaN</td>\n",
       "      <td>NaN</td>\n",
       "      <td>NaN</td>\n",
       "      <td>350.0</td>\n",
       "      <td>105.0</td>\n",
       "      <td>2000.0</td>\n",
       "      <td>200.0</td>\n",
       "      <td>1500.0</td>\n",
       "      <td>1000.0</td>\n",
       "    </tr>\n",
       "    <tr>\n",
       "      <th>497</th>\n",
       "      <td>Herbert Burns</td>\n",
       "      <td>Daniel Pineda</td>\n",
       "      <td>-286</td>\n",
       "      <td>225</td>\n",
       "      <td>34.965035</td>\n",
       "      <td>225.000000</td>\n",
       "      <td>8/15/2020</td>\n",
       "      <td>Las Vegas, Nevada, USA</td>\n",
       "      <td>USA</td>\n",
       "      <td>Blue</td>\n",
       "      <td>...</td>\n",
       "      <td>Elbows</td>\n",
       "      <td>NaN</td>\n",
       "      <td>NaN</td>\n",
       "      <td>NaN</td>\n",
       "      <td>575.0</td>\n",
       "      <td>700.0</td>\n",
       "      <td>-125.0</td>\n",
       "      <td>900.0</td>\n",
       "      <td>500.0</td>\n",
       "      <td>425.0</td>\n",
       "    </tr>\n",
       "  </tbody>\n",
       "</table>\n",
       "<p>5 rows × 119 columns</p>\n",
       "</div>"
      ],
      "text/plain": [
       "         R_fighter          B_fighter  R_odds  B_odds        R_ev        B_ev  \\\n",
       "493    John Dodson  Merab Dvalishvili     188    -240  188.000000   41.666667   \n",
       "494     Jim Miller        Vinc Pichel     100    -124  100.000000   80.645161   \n",
       "495   Ashley Yoder      Livinha Souza     130    -162  130.000000   61.728395   \n",
       "496  Felice Herrig    Virna Jandiroba     240    -315  240.000000   31.746032   \n",
       "497  Herbert Burns      Daniel Pineda    -286     225   34.965035  225.000000   \n",
       "\n",
       "          date                location country Winner  ...  finish_details  \\\n",
       "493  8/15/2020  Las Vegas, Nevada, USA     USA   Blue  ...             NaN   \n",
       "494  8/15/2020  Las Vegas, Nevada, USA     USA   Blue  ...             NaN   \n",
       "495  8/15/2020  Las Vegas, Nevada, USA     USA   Blue  ...             NaN   \n",
       "496  8/15/2020  Las Vegas, Nevada, USA     USA   Blue  ...          Armbar   \n",
       "497  8/15/2020  Las Vegas, Nevada, USA     USA   Blue  ...          Elbows   \n",
       "\n",
       "    finish_round finish_round_time  total_fight_time_secs  r_dec_odds  \\\n",
       "493          NaN               NaN                    NaN       450.0   \n",
       "494          NaN               NaN                    NaN       350.0   \n",
       "495          NaN               NaN                    NaN       180.0   \n",
       "496          NaN               NaN                    NaN       350.0   \n",
       "497          NaN               NaN                    NaN       575.0   \n",
       "\n",
       "     b_dec_odds  r_sub_odds  b_sub_odds  r_ko_odds  b_ko_odds  \n",
       "493      -185.0      1500.0      1000.0      375.0     1000.0  \n",
       "494       180.0       250.0      1500.0      800.0      350.0  \n",
       "495       105.0      1250.0       375.0     1600.0      625.0  \n",
       "496       105.0      2000.0       200.0     1500.0     1000.0  \n",
       "497       700.0      -125.0       900.0      500.0      425.0  \n",
       "\n",
       "[5 rows x 119 columns]"
      ]
     },
     "execution_count": 4,
     "metadata": {},
     "output_type": "execute_result"
    }
   ],
   "source": [
    "#Display last 5 rows\n",
    "df.tail()"
   ]
  },
  {
   "cell_type": "code",
   "execution_count": 5,
   "metadata": {},
   "outputs": [
    {
     "data": {
      "text/plain": [
       "(498, 119)"
      ]
     },
     "execution_count": 5,
     "metadata": {},
     "output_type": "execute_result"
    }
   ],
   "source": [
    "#Display number of rows and columns\n",
    "df.shape"
   ]
  },
  {
   "cell_type": "code",
   "execution_count": 6,
   "metadata": {},
   "outputs": [
    {
     "data": {
      "text/plain": [
       "R_fighter     0\n",
       "B_fighter     0\n",
       "R_odds        0\n",
       "B_odds        0\n",
       "R_ev          0\n",
       "             ..\n",
       "b_dec_odds    7\n",
       "r_sub_odds    8\n",
       "b_sub_odds    7\n",
       "r_ko_odds     8\n",
       "b_ko_odds     7\n",
       "Length: 119, dtype: int64"
      ]
     },
     "execution_count": 6,
     "metadata": {},
     "output_type": "execute_result"
    }
   ],
   "source": [
    "#Checking number of null values\n",
    "df.isnull().sum()"
   ]
  },
  {
   "cell_type": "code",
   "execution_count": 7,
   "metadata": {},
   "outputs": [],
   "source": [
    "#Replacing null values with 0\n",
    "df.fillna(0, inplace=True)"
   ]
  },
  {
   "cell_type": "code",
   "execution_count": 8,
   "metadata": {},
   "outputs": [
    {
     "data": {
      "text/plain": [
       "R_fighter     0\n",
       "B_fighter     0\n",
       "R_odds        0\n",
       "B_odds        0\n",
       "R_ev          0\n",
       "             ..\n",
       "b_dec_odds    0\n",
       "r_sub_odds    0\n",
       "b_sub_odds    0\n",
       "r_ko_odds     0\n",
       "b_ko_odds     0\n",
       "Length: 119, dtype: int64"
      ]
     },
     "execution_count": 8,
     "metadata": {},
     "output_type": "execute_result"
    }
   ],
   "source": [
    "#Checking sum values again\n",
    "df.isnull().sum()"
   ]
  },
  {
   "cell_type": "code",
   "execution_count": 9,
   "metadata": {},
   "outputs": [],
   "source": [
    "#Categorical features\n",
    "cat_features = ['R_fighter','B_fighter', 'date', 'location','country', 'title_bout', 'weight_class' ,\n",
    "                'gender', 'B_Stance', 'R_Stance', 'better_rank', 'finish_round_time' ,'finish_details', 'finish']"
   ]
  },
  {
   "cell_type": "code",
   "execution_count": 10,
   "metadata": {},
   "outputs": [
    {
     "name": "stdout",
     "output_type": "stream",
     "text": [
      "(498, 119)\n",
      "(498, 1021)\n"
     ]
    },
    {
     "name": "stderr",
     "output_type": "stream",
     "text": [
      "<ipython-input-10-64de7e6dd28e>:6: SettingWithCopyWarning: \n",
      "A value is trying to be set on a copy of a slice from a DataFrame\n",
      "\n",
      "See the caveats in the documentation: https://pandas.pydata.org/pandas-docs/stable/user_guide/indexing.html#returning-a-view-versus-a-copy\n",
      "  new_df['Winner'][new_df['Winner'] == 'Blue'] = 1   #if Blue wins display 1\n",
      "<ipython-input-10-64de7e6dd28e>:7: SettingWithCopyWarning: \n",
      "A value is trying to be set on a copy of a slice from a DataFrame\n",
      "\n",
      "See the caveats in the documentation: https://pandas.pydata.org/pandas-docs/stable/user_guide/indexing.html#returning-a-view-versus-a-copy\n",
      "  new_df['Winner'][new_df['Winner'] == 'Red'] = 0    #if Red wins display 0\n"
     ]
    },
    {
     "data": {
      "text/html": [
       "<div>\n",
       "<style scoped>\n",
       "    .dataframe tbody tr th:only-of-type {\n",
       "        vertical-align: middle;\n",
       "    }\n",
       "\n",
       "    .dataframe tbody tr th {\n",
       "        vertical-align: top;\n",
       "    }\n",
       "\n",
       "    .dataframe thead th {\n",
       "        text-align: right;\n",
       "    }\n",
       "</style>\n",
       "<table border=\"1\" class=\"dataframe\">\n",
       "  <thead>\n",
       "    <tr style=\"text-align: right;\">\n",
       "      <th></th>\n",
       "      <th>R_odds</th>\n",
       "      <th>B_odds</th>\n",
       "      <th>R_ev</th>\n",
       "      <th>B_ev</th>\n",
       "      <th>Winner</th>\n",
       "      <th>no_of_rounds</th>\n",
       "      <th>B_current_lose_streak</th>\n",
       "      <th>B_current_win_streak</th>\n",
       "      <th>B_draw</th>\n",
       "      <th>B_avg_SIG_STR_landed</th>\n",
       "      <th>...</th>\n",
       "      <th>finish_details_Punch</th>\n",
       "      <th>finish_details_Punches</th>\n",
       "      <th>finish_details_Rear Naked Choke</th>\n",
       "      <th>finish_0</th>\n",
       "      <th>finish_DQ</th>\n",
       "      <th>finish_KO/TKO</th>\n",
       "      <th>finish_M-DEC</th>\n",
       "      <th>finish_S-DEC</th>\n",
       "      <th>finish_SUB</th>\n",
       "      <th>finish_U-DEC</th>\n",
       "    </tr>\n",
       "  </thead>\n",
       "  <tbody>\n",
       "    <tr>\n",
       "      <th>0</th>\n",
       "      <td>250</td>\n",
       "      <td>-320</td>\n",
       "      <td>250.000000</td>\n",
       "      <td>31.250000</td>\n",
       "      <td>1</td>\n",
       "      <td>5</td>\n",
       "      <td>0</td>\n",
       "      <td>6</td>\n",
       "      <td>0</td>\n",
       "      <td>5.37</td>\n",
       "      <td>...</td>\n",
       "      <td>0</td>\n",
       "      <td>1</td>\n",
       "      <td>0</td>\n",
       "      <td>0</td>\n",
       "      <td>0</td>\n",
       "      <td>1</td>\n",
       "      <td>0</td>\n",
       "      <td>0</td>\n",
       "      <td>0</td>\n",
       "      <td>0</td>\n",
       "    </tr>\n",
       "    <tr>\n",
       "      <th>1</th>\n",
       "      <td>-105</td>\n",
       "      <td>-115</td>\n",
       "      <td>95.238095</td>\n",
       "      <td>86.956522</td>\n",
       "      <td>0</td>\n",
       "      <td>3</td>\n",
       "      <td>0</td>\n",
       "      <td>1</td>\n",
       "      <td>0</td>\n",
       "      <td>5.55</td>\n",
       "      <td>...</td>\n",
       "      <td>0</td>\n",
       "      <td>0</td>\n",
       "      <td>0</td>\n",
       "      <td>0</td>\n",
       "      <td>0</td>\n",
       "      <td>0</td>\n",
       "      <td>0</td>\n",
       "      <td>0</td>\n",
       "      <td>0</td>\n",
       "      <td>1</td>\n",
       "    </tr>\n",
       "    <tr>\n",
       "      <th>2</th>\n",
       "      <td>-115</td>\n",
       "      <td>-105</td>\n",
       "      <td>86.956522</td>\n",
       "      <td>95.238095</td>\n",
       "      <td>1</td>\n",
       "      <td>3</td>\n",
       "      <td>0</td>\n",
       "      <td>3</td>\n",
       "      <td>0</td>\n",
       "      <td>5.65</td>\n",
       "      <td>...</td>\n",
       "      <td>0</td>\n",
       "      <td>0</td>\n",
       "      <td>0</td>\n",
       "      <td>0</td>\n",
       "      <td>0</td>\n",
       "      <td>0</td>\n",
       "      <td>0</td>\n",
       "      <td>0</td>\n",
       "      <td>1</td>\n",
       "      <td>0</td>\n",
       "    </tr>\n",
       "    <tr>\n",
       "      <th>3</th>\n",
       "      <td>-160</td>\n",
       "      <td>140</td>\n",
       "      <td>62.500000</td>\n",
       "      <td>140.000000</td>\n",
       "      <td>0</td>\n",
       "      <td>3</td>\n",
       "      <td>0</td>\n",
       "      <td>1</td>\n",
       "      <td>0</td>\n",
       "      <td>5.71</td>\n",
       "      <td>...</td>\n",
       "      <td>0</td>\n",
       "      <td>0</td>\n",
       "      <td>0</td>\n",
       "      <td>0</td>\n",
       "      <td>0</td>\n",
       "      <td>0</td>\n",
       "      <td>0</td>\n",
       "      <td>0</td>\n",
       "      <td>0</td>\n",
       "      <td>1</td>\n",
       "    </tr>\n",
       "    <tr>\n",
       "      <th>4</th>\n",
       "      <td>105</td>\n",
       "      <td>-125</td>\n",
       "      <td>105.000000</td>\n",
       "      <td>80.000000</td>\n",
       "      <td>0</td>\n",
       "      <td>3</td>\n",
       "      <td>1</td>\n",
       "      <td>0</td>\n",
       "      <td>0</td>\n",
       "      <td>4.85</td>\n",
       "      <td>...</td>\n",
       "      <td>0</td>\n",
       "      <td>0</td>\n",
       "      <td>0</td>\n",
       "      <td>0</td>\n",
       "      <td>0</td>\n",
       "      <td>0</td>\n",
       "      <td>0</td>\n",
       "      <td>1</td>\n",
       "      <td>0</td>\n",
       "      <td>0</td>\n",
       "    </tr>\n",
       "  </tbody>\n",
       "</table>\n",
       "<p>5 rows × 1021 columns</p>\n",
       "</div>"
      ],
      "text/plain": [
       "   R_odds  B_odds        R_ev        B_ev Winner  no_of_rounds  \\\n",
       "0     250    -320  250.000000   31.250000      1             5   \n",
       "1    -105    -115   95.238095   86.956522      0             3   \n",
       "2    -115    -105   86.956522   95.238095      1             3   \n",
       "3    -160     140   62.500000  140.000000      0             3   \n",
       "4     105    -125  105.000000   80.000000      0             3   \n",
       "\n",
       "   B_current_lose_streak  B_current_win_streak  B_draw  B_avg_SIG_STR_landed  \\\n",
       "0                      0                     6       0                  5.37   \n",
       "1                      0                     1       0                  5.55   \n",
       "2                      0                     3       0                  5.65   \n",
       "3                      0                     1       0                  5.71   \n",
       "4                      1                     0       0                  4.85   \n",
       "\n",
       "   ...  finish_details_Punch  finish_details_Punches  \\\n",
       "0  ...                     0                       1   \n",
       "1  ...                     0                       0   \n",
       "2  ...                     0                       0   \n",
       "3  ...                     0                       0   \n",
       "4  ...                     0                       0   \n",
       "\n",
       "   finish_details_Rear Naked Choke  finish_0  finish_DQ  finish_KO/TKO  \\\n",
       "0                                0         0          0              1   \n",
       "1                                0         0          0              0   \n",
       "2                                0         0          0              0   \n",
       "3                                0         0          0              0   \n",
       "4                                0         0          0              0   \n",
       "\n",
       "   finish_M-DEC  finish_S-DEC  finish_SUB  finish_U-DEC  \n",
       "0             0             0           0             0  \n",
       "1             0             0           0             1  \n",
       "2             0             0           1             0  \n",
       "3             0             0           0             1  \n",
       "4             0             1           0             0  \n",
       "\n",
       "[5 rows x 1021 columns]"
      ]
     },
     "execution_count": 10,
     "metadata": {},
     "output_type": "execute_result"
    }
   ],
   "source": [
    "#One-hot encoding\n",
    "new_df = pd.get_dummies(df, columns = cat_features)\n",
    "print(df.shape)        #Original dataframe shape\n",
    "print(new_df.shape)    #new dataframe shape\n",
    "\n",
    "new_df['Winner'][new_df['Winner'] == 'Blue'] = 1   #if Blue wins display 1\n",
    "new_df['Winner'][new_df['Winner'] == 'Red'] = 0    #if Red wins display 0\n",
    "\n",
    "new_df.head()  #First 5 rows of new dataframe"
   ]
  },
  {
   "cell_type": "code",
   "execution_count": 11,
   "metadata": {},
   "outputs": [
    {
     "name": "stdout",
     "output_type": "stream",
     "text": [
      "(498, 1020)\n",
      "(498,)\n"
     ]
    }
   ],
   "source": [
    "#Setting X and Y values\n",
    "X = new_df.drop('Winner', axis=1).values\n",
    "y = new_df['Winner']\n",
    "\n",
    "\n",
    "y = y.astype(int)   #Changing y to integer values\n",
    "\n",
    "\n",
    "\n",
    "print(X.shape)     #Comparing X and y shapes\n",
    "print(y.shape)"
   ]
  },
  {
   "cell_type": "code",
   "execution_count": 12,
   "metadata": {},
   "outputs": [
    {
     "data": {
      "image/png": "[encoded data removed]",
      "text/plain": [
       "<Figure size 634.25x576 with 6 Axes>"
      ]
     },
     "metadata": {
      "needs_background": "light"
     },
     "output_type": "display_data"
    }
   ],
   "source": [
    "#Limiting the data\n",
    "df2 = df[['R_odds', 'B_odds', 'Winner'] ]   #Comparing these 3 features to see if there's correlation\n",
    "\n",
    "\n",
    "\n",
    "# Visualize the data using seaborn Pairplots\n",
    "g = sns.pairplot(df2, hue = 'Winner', palette = 'seismic' , diag_kws={'bw': 0.2}, height = 4)"
   ]
  },
  {
   "cell_type": "code",
   "execution_count": 13,
   "metadata": {},
   "outputs": [
    {
     "data": {
      "image/png": "[encoded data removed]",
      "text/plain": [
       "<Figure size 432x288 with 1 Axes>"
      ]
     },
     "metadata": {
      "needs_background": "light"
     },
     "output_type": "display_data"
    },
    {
     "data": {
      "image/png": "[encoded data removed]",
      "text/plain": [
       "<Figure size 432x288 with 1 Axes>"
      ]
     },
     "metadata": {
      "needs_background": "light"
     },
     "output_type": "display_data"
    },
    {
     "data": {
      "image/png": "[encoded data removed]",
      "text/plain": [
       "<Figure size 432x288 with 1 Axes>"
      ]
     },
     "metadata": {
      "needs_background": "light"
     },
     "output_type": "display_data"
    }
   ],
   "source": [
    "#Investigate all the 'R_odds' and 'B_odds' features by our y\n",
    "\n",
    "features = ['R_odds', 'B_odds', 'Winner']\n",
    "\n",
    "\n",
    "for f in features:\n",
    "    plt.figure()\n",
    "    ax = sns.countplot(x=f, data=df2, hue = 'Winner', palette=\"seismic\")"
   ]
  },
  {
   "cell_type": "code",
   "execution_count": 24,
   "metadata": {},
   "outputs": [],
   "source": [
    "#Splitting the data\n",
    "X_train, X_test, y_train, y_test = train_test_split(X, y, test_size=0.25, random_state=15)"
   ]
  },
  {
   "cell_type": "code",
   "execution_count": 25,
   "metadata": {},
   "outputs": [],
   "source": [
    "#Support Vector Machine Classifier\n",
    "clf_svm = svm.SVC(kernel='rbf', C=30, gamma='auto')\n",
    "clf_svm.fit(X_train, y_train)\n",
    "\n",
    "y_pred = clf_svm.predict(X_train) #Predicts y from training data"
   ]
  },
  {
   "cell_type": "code",
   "execution_count": 26,
   "metadata": {},
   "outputs": [
    {
     "name": "stdout",
     "output_type": "stream",
     "text": [
      "Training dataset accuracy is: 1.0\n",
      "Testing dataset accuracy is: 0.608\n"
     ]
    }
   ],
   "source": [
    "#Accuracy on Train data\n",
    "print(\"Training dataset accuracy is:\", clf_svm.score(X_train, y_train))\n",
    "\n",
    "#Accuracy on Test data\n",
    "print(\"Testing dataset accuracy is:\", clf_svm.score(X_test, y_test))"
   ]
  },
  {
   "cell_type": "code",
   "execution_count": 27,
   "metadata": {},
   "outputs": [],
   "source": [
    "#Confusion Matrix Function\n",
    "def plot_confusion_matrix(cm, classes=None, title='Confusion matrix'):\n",
    "    \"\"\"Plots a confusion matrix.\"\"\"\n",
    "    if classes is not None:\n",
    "        sns.heatmap(cm, xticklabels=classes,cmap='RdPu', yticklabels=classes, vmin=0., vmax=1., annot=True, annot_kws={'size':30},\n",
    "                   fmt='g')\n",
    "    else:\n",
    "        sns.heatmap(cm, vmin=0., vmax=1.)\n",
    "    plt.title(title)\n",
    "    plt.ylabel('True label')\n",
    "    plt.xlabel('Predicted label')"
   ]
  },
  {
   "cell_type": "code",
   "execution_count": 28,
   "metadata": {},
   "outputs": [
    {
     "data": {
      "image/png": "[encoded data removed]",
      "text/plain": [
       "<Figure size 432x288 with 2 Axes>"
      ]
     },
     "metadata": {
      "needs_background": "light"
     },
     "output_type": "display_data"
    }
   ],
   "source": [
    "#Plotting confusion matrix without normalization\n",
    "cm = confusion_matrix(y_train, y_pred)\n",
    "\n",
    "plot_confusion_matrix(cm, classes = clf_svm.classes_, title = \"Confusion Matrix without Normalization\")"
   ]
  },
  {
   "cell_type": "code",
   "execution_count": 29,
   "metadata": {},
   "outputs": [
    {
     "data": {
      "image/png": "[encoded data removed]",
      "text/plain": [
       "<Figure size 432x288 with 2 Axes>"
      ]
     },
     "metadata": {
      "needs_background": "light"
     },
     "output_type": "display_data"
    }
   ],
   "source": [
    "#Plotting confusion matrix with normalization\n",
    "cm = confusion_matrix(y_train, y_pred)\n",
    "cm_norm = cm / cm.sum(axis=1).reshape(-1,1)\n",
    "\n",
    "plot_confusion_matrix(cm_norm, classes = clf_svm.classes_, title = \"Normalized Confusion Matrix\")"
   ]
  },
  {
   "cell_type": "code",
   "execution_count": 30,
   "metadata": {},
   "outputs": [
    {
     "name": "stdout",
     "output_type": "stream",
     "text": [
      "The True Positive Rate is:  [1. 1.]\n",
      "The Precision is:  [1. 1.]\n",
      "The False Positive rate is:  [0. 0.]\n",
      "The False Negative rate is:  [0. 0.]\n",
      "\n",
      "The average TPR is:  1.0\n",
      "The average Precision rate is:  1.0\n",
      "The False Positive rate is:  0.0\n",
      "The False Negative rate is:  0.0\n"
     ]
    }
   ],
   "source": [
    "#Calculating False Positive(FP), False Negative(FN), True Positive(TP) and True Negative(TN)\n",
    "\n",
    "FP = cm.sum(axis=0) - np.diag(cm)\n",
    "FN = cm.sum(axis=1) - np.diag(cm)\n",
    "TP = np.diag(cm)\n",
    "TN = cm.sum()- (FP + FN + TP)\n",
    "\n",
    "#Sensitivity, hit rate, recall or True positive rate\n",
    "TPR = TP / (TP + FN)\n",
    "print(\"The True Positive Rate is: \", TPR)\n",
    "\n",
    "#Precision or Positive predictive value\n",
    "PPV = TP / (TP+ FP)\n",
    "print(\"The Precision is: \", PPV)\n",
    "\n",
    "#False positive rate\n",
    "FPR = FP / (FP + TN)\n",
    "print(\"The False Positive rate is: \", FPR)\n",
    "\n",
    "#False Negative rate\n",
    "FNR = FN / (FN + TP)\n",
    "print(\"The False Negative rate is: \", FNR)\n",
    "\n",
    "#Averages:\n",
    "print(\"\")\n",
    "print(\"The average TPR is: \", TPR.sum()/2)\n",
    "print(\"The average Precision rate is: \" , PPV.sum()/2)\n",
    "print(\"The False Positive rate is: \" , FPR.sum()/2)\n",
    "print(\"The False Negative rate is: \" , FNR.sum()/2)"
   ]
  },
  {
   "cell_type": "code",
   "execution_count": 20,
   "metadata": {},
   "outputs": [
    {
     "data": {
      "text/plain": [
       "{'mean_fit_time': array([5.97e-03, 5.06e-01, 8.91e-03, 5.12e+00, 4.04e-03, 5.04e+01]),\n",
       " 'std_fit_time': array([1.92e-03, 5.60e-01, 6.85e-04, 6.29e+00, 4.96e-05, 5.72e+01]),\n",
       " 'mean_score_time': array([0.  , 0.  , 0.01, 0.  , 0.  , 0.  ]),\n",
       " 'std_score_time': array([0., 0., 0., 0., 0., 0.]),\n",
       " 'param_C': masked_array(data=[1, 1, 10, 10, 100, 100],\n",
       "              mask=[False, False, False, False, False, False],\n",
       "        fill_value='?',\n",
       "             dtype=object),\n",
       " 'param_kernel': masked_array(data=['rbf', 'linear', 'rbf', 'linear', 'rbf', 'linear'],\n",
       "              mask=[False, False, False, False, False, False],\n",
       "        fill_value='?',\n",
       "             dtype=object),\n",
       " 'params': [{'C': 1, 'kernel': 'rbf'},\n",
       "  {'C': 1, 'kernel': 'linear'},\n",
       "  {'C': 10, 'kernel': 'rbf'},\n",
       "  {'C': 10, 'kernel': 'linear'},\n",
       "  {'C': 100, 'kernel': 'rbf'},\n",
       "  {'C': 100, 'kernel': 'linear'}],\n",
       " 'split0_test_score': array([0.6 , 0.6 , 0.6 , 0.6 , 0.65, 0.6 ]),\n",
       " 'split1_test_score': array([0.45, 0.5 , 0.45, 0.5 , 0.45, 0.5 ]),\n",
       " 'split2_test_score': array([0.65, 0.8 , 0.7 , 0.8 , 0.65, 0.8 ]),\n",
       " 'split3_test_score': array([0.5, 0.7, 0.6, 0.7, 0.6, 0.7]),\n",
       " 'split4_test_score': array([0.55, 0.55, 0.55, 0.55, 0.55, 0.55]),\n",
       " 'mean_test_score': array([0.55, 0.63, 0.58, 0.63, 0.58, 0.63]),\n",
       " 'std_test_score': array([0.07, 0.11, 0.08, 0.11, 0.07, 0.11]),\n",
       " 'rank_test_score': array([6, 1, 4, 1, 4, 1])}"
      ]
     },
     "execution_count": 20,
     "metadata": {},
     "output_type": "execute_result"
    }
   ],
   "source": [
    "#GridSearchCV to find the optimal parameters for the classifier\n",
    "clf = GridSearchCV(svm.SVC(),{\n",
    "    'C':[1,10,100],\n",
    "    'kernel':['rbf', 'linear']\n",
    "}, cv=5, return_train_score=False)\n",
    "\n",
    "clf.fit(X, y)\n",
    "clf.cv_results_"
   ]
  },
  {
   "cell_type": "code",
   "execution_count": 21,
   "metadata": {},
   "outputs": [
    {
     "name": "stdout",
     "output_type": "stream",
     "text": [
      "{'C': 1, 'kernel': 'linear'}\n"
     ]
    }
   ],
   "source": [
    "#Printing best parameters\n",
    "print(clf.best_params_)"
   ]
  },
  {
   "cell_type": "code",
   "execution_count": null,
   "metadata": {},
   "outputs": [],
   "source": [
    "#Applying optimal parameters\n",
    "clf_svm = svm.SVC(kernel='linear', C=1, gamma='auto')\n",
    "clf_svm.fit(X_train, y_train)\n",
    "\n",
    "y_pred = clf_svm.predict(X_test)"
   ]
  },
  {
   "cell_type": "code",
   "execution_count": 33,
   "metadata": {},
   "outputs": [
    {
     "name": "stdout",
     "output_type": "stream",
     "text": [
      "Accuracy: 0.61\n"
     ]
    }
   ],
   "source": [
    "print('Accuracy: %.2f' % accuracy_score(y_test, y_pred))"
   ]
  },
  {
   "cell_type": "code",
   "execution_count": 31,
   "metadata": {},
   "outputs": [
    {
     "data": {
      "image/png": "[encoded data removed]",
      "text/plain": [
       "<Figure size 432x288 with 1 Axes>"
      ]
     },
     "metadata": {
      "needs_background": "light"
     },
     "output_type": "display_data"
    }
   ],
   "source": [
    "plt.scatter(X[:, 0], X[:, 1], c=y, s=30, cmap=plt.cm.bwr)\n",
    "\n",
    "# plot the decision function\n",
    "ax = plt.gca()\n",
    "xlim = ax.get_xlim()\n",
    "ylim = ax.get_ylim()\n",
    "\n",
    "# create grid to evaluate model\n",
    "xx = np.linspace(xlim[0], xlim[1], 30)\n",
    "yy = np.linspace(ylim[0], ylim[1], 30)\n",
    "YY, XX = np.meshgrid(yy, xx)\n",
    "xy = np.vstack([XX.ravel(), YY.ravel()]).T\n",
    "Z = clf.decision_function(xy).reshape(XX.shape)\n",
    "\n",
    "# plot decision boundary and margins\n",
    "ax.contour(XX, YY, Z, colors='k', levels=[-1, 0, 1], alpha=0.5,\n",
    "           linestyles=['--', '-', '--'])\n",
    "# plot support vectors\n",
    "ax.scatter(clf.support_vectors_[:, 0], clf.support_vectors_[:, 1], s=100,\n",
    "           linewidth=1, facecolors='none', edgecolors='k')\n",
    "plt.show()"
   ]
  }
 ],
 "metadata": {
  "kernelspec": {
   "display_name": "Python 3",
   "language": "python",
   "name": "python3"
  },
  "language_info": {
   "codemirror_mode": {
    "name": "ipython",
    "version": 3
   },
   "file_extension": ".py",
   "mimetype": "text/x-python",
   "name": "python",
   "nbconvert_exporter": "python",
   "pygments_lexer": "ipython3",
   "version": "3.8.3"
  }
 },
 "nbformat": 4,
 "nbformat_minor": 4
}
